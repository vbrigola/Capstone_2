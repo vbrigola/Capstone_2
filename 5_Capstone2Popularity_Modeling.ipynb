{
 "cells": [
  {
   "cell_type": "markdown",
   "id": "d4de9a3e-ceb8-4e89-a9b4-168197ee9d05",
   "metadata": {},
   "source": [
    "### Modeling Setup \n",
    "\n",
    "Goal: Build and compare multiple classification models to predict track popularity levels based on key audio features.\n",
    "\n",
    "Algorithms Implemented: \n",
    "- Decision Tree Classifier (Gini & Entropy)\n",
    "- Random Forest Classifier  \n",
    "- Bagging Classifier\n",
    "- Logistic Regression\n",
    "- Hyperparamater Tuning (Random Forest)  \n",
    "\n",
    "Evaluation Metrics:  \n",
    "- Accuracy  \n",
    "- Precision  \n",
    "- Recall  \n",
    "- F1 Score (macro)  \n",
    "- Confusion Matrix  \n",
    "\n",
    "Final Criteria: \n",
    "The best model was chosen based on a balance between predictive performance (F1 score), robustness to noise, generalization to test data, and scalability.  "
   ]
  },
  {
   "cell_type": "code",
   "execution_count": 303,
   "id": "1fb21562-25c4-42da-b897-dc2466a1d831",
   "metadata": {},
   "outputs": [],
   "source": [
    "import pandas as pd\n",
    "import numpy as np\n",
    "import matplotlib.pyplot as plt\n",
    "import seaborn as sns\n",
    "import joblib\n",
    "\n",
    "from sklearn.tree import DecisionTreeClassifier\n",
    "from sklearn.ensemble import RandomForestClassifier, BaggingClassifier\n",
    "from sklearn.linear_model import LogisticRegression\n",
    "from sklearn.model_selection import cross_val_score, GridSearchCV\n",
    "from sklearn.metrics import classification_report, confusion_matrix, accuracy_score\n",
    "from sklearn.impute import SimpleImputer"
   ]
  },
  {
   "cell_type": "code",
   "execution_count": 305,
   "id": "69dd5f8b-46be-4d60-9235-2a8081c0e8d1",
   "metadata": {},
   "outputs": [],
   "source": [
    "X_train = pd.read_csv(\"X_train.csv\", index_col=0)\n",
    "X_test = pd.read_csv(\"X_test.csv\", index_col=0)\n",
    "y_train = pd.read_csv(\"y_train.csv\").squeeze()\n",
    "y_test = pd.read_csv(\"y_test.csv\").squeeze()"
   ]
  },
  {
   "cell_type": "code",
   "execution_count": 307,
   "id": "9513c791-46b6-41f7-bb44-5a5752393335",
   "metadata": {},
   "outputs": [],
   "source": [
    "X_train = X_train.select_dtypes(include=[np.number])\n",
    "X_test = X_test[X_train.columns]"
   ]
  },
  {
   "cell_type": "code",
   "execution_count": 309,
   "id": "89013bcd-112d-4782-b425-4d0e440c51e9",
   "metadata": {},
   "outputs": [],
   "source": [
    "imputer = SimpleImputer(strategy='mean')\n",
    "X_train_imputed_array = imputer.fit_transform(X_train_numeric)\n",
    "X_test_imputed_array = imputer.transform(X_test_numeric)\n",
    "\n",
    "X_train_imputed = pd.DataFrame(X_train_imputed_array, columns=X_train_numeric.columns)\n",
    "X_test_imputed = pd.DataFrame(X_test_imputed_array, columns=X_train_numeric.columns)"
   ]
  },
  {
   "cell_type": "code",
   "execution_count": 343,
   "id": "fa51b95c-d233-4090-920c-1ac617b48ec1",
   "metadata": {},
   "outputs": [
    {
     "data": {
      "image/png": "[encoded data removed]",
      "text/plain": [
       "<Figure size 640x480 with 1 Axes>"
      ]
     },
     "metadata": {},
     "output_type": "display_data"
    }
   ],
   "source": [
    "y_train.value_counts(normalize=True).plot(kind='bar', title='Target Distribution (y_train)', color='skyblue')\n",
    "plt.xlabel(\"Popularity Class\")\n",
    "plt.ylabel(\"Proportion\")\n",
    "plt.xticks(rotation=0)\n",
    "plt.tight_layout()\n",
    "plt.show()"
   ]
  },
  {
   "cell_type": "markdown",
   "id": "c29e6810-6e51-4bc5-9e43-3289496d72e5",
   "metadata": {},
   "source": [
    "In this bar graph, I was to get a clear view of ohow track popularity is distributed in my training data. Most tracks fall into Class 2, which represents the most popular songs. Class 0 (less popular) make up a decent portion, but Class 1 (moderatley popular) is less frequient. This class imbalance insight highlights the importance of using evaluation metrics like macro F1 score to ensure fair model performance across all classes."
   ]
  },
  {
   "cell_type": "code",
   "execution_count": 349,
   "id": "0207584f-77da-4368-8e31-0ff6cfa33c84",
   "metadata": {},
   "outputs": [
    {
     "name": "stdout",
     "output_type": "stream",
     "text": [
      "\n",
      " Decision Tree (Gini):\n",
      "               precision    recall  f1-score   support\n",
      "\n",
      "           0       0.84      0.80      0.82        88\n",
      "           1       0.48      0.51      0.50        53\n",
      "           2       0.78      0.79      0.79       172\n",
      "\n",
      "    accuracy                           0.74       313\n",
      "   macro avg       0.70      0.70      0.70       313\n",
      "weighted avg       0.75      0.74      0.75       313\n",
      "\n"
     ]
    }
   ],
   "source": [
    "# Decision Tree (GINI)\n",
    "dt_gini = DecisionTreeClassifier(criterion='gini', random_state=42)\n",
    "dt_gini.fit(X_train, y_train)\n",
    "y_pred_gini = dt_gini.predict(X_test)\n",
    "print(\"\\n Decision Tree (Gini):\\n\", classification_report(y_test, y_pred_gini))"
   ]
  },
  {
   "cell_type": "code",
   "execution_count": 351,
   "id": "e8647c50-cf7c-4ce2-84c1-f042bb46a1a6",
   "metadata": {},
   "outputs": [
    {
     "name": "stdout",
     "output_type": "stream",
     "text": [
      "\n",
      " Decision Tree (Entropy):\n",
      "               precision    recall  f1-score   support\n",
      "\n",
      "           0       0.81      0.77      0.79        88\n",
      "           1       0.53      0.49      0.51        53\n",
      "           2       0.76      0.80      0.78       172\n",
      "\n",
      "    accuracy                           0.74       313\n",
      "   macro avg       0.70      0.69      0.69       313\n",
      "weighted avg       0.74      0.74      0.74       313\n",
      "\n"
     ]
    }
   ],
   "source": [
    "# Decision Tree (ENTROPY)\n",
    "dt_entropy = DecisionTreeClassifier(criterion='entropy', random_state=42)\n",
    "dt_entropy.fit(X_train, y_train)\n",
    "y_pred_entropy = dt_entropy.predict(X_test)\n",
    "print(\"\\n Decision Tree (Entropy):\\n\", classification_report(y_test, y_pred_entropy))"
   ]
  },
  {
   "cell_type": "code",
   "execution_count": 353,
   "id": "1c93f458-69cd-4636-a79d-17c4213f86fe",
   "metadata": {},
   "outputs": [
    {
     "name": "stdout",
     "output_type": "stream",
     "text": [
      "\n",
      " Random Forest:\n",
      "               precision    recall  f1-score   support\n",
      "\n",
      "           0       0.93      0.76      0.84        88\n",
      "           1       0.72      0.34      0.46        53\n",
      "           2       0.75      0.94      0.83       172\n",
      "\n",
      "    accuracy                           0.79       313\n",
      "   macro avg       0.80      0.68      0.71       313\n",
      "weighted avg       0.79      0.79      0.77       313\n",
      "\n"
     ]
    }
   ],
   "source": [
    "# Random Forest\n",
    "rf = RandomForestClassifier(n_estimators=100, random_state=42)\n",
    "rf.fit(X_train, y_train)\n",
    "y_pred_rf = rf.predict(X_test)\n",
    "print(\"\\n Random Forest:\\n\", classification_report(y_test, y_pred_rf))"
   ]
  },
  {
   "cell_type": "code",
   "execution_count": 355,
   "id": "cf242013-4c50-428a-b4a1-279557b3668f",
   "metadata": {},
   "outputs": [
    {
     "name": "stdout",
     "output_type": "stream",
     "text": [
      "\n",
      " Bagging Classifier:\n",
      "               precision    recall  f1-score   support\n",
      "\n",
      "           0       0.85      0.83      0.84        88\n",
      "           1       0.56      0.38      0.45        53\n",
      "           2       0.76      0.84      0.80       172\n",
      "\n",
      "    accuracy                           0.76       313\n",
      "   macro avg       0.72      0.68      0.70       313\n",
      "weighted avg       0.75      0.76      0.75       313\n",
      "\n"
     ]
    }
   ],
   "source": [
    "# Bagging Classifier\n",
    "bag = BaggingClassifier(random_state=42)\n",
    "bag.fit(X_train, y_train)\n",
    "y_pred_bag = bag.predict(X_test)\n",
    "print(\"\\n Bagging Classifier:\\n\", classification_report(y_test, y_pred_bag))"
   ]
  },
  {
   "cell_type": "code",
   "execution_count": 357,
   "id": "20c61855-d6ec-49bf-933a-e8a8d47f1ed5",
   "metadata": {},
   "outputs": [
    {
     "name": "stdout",
     "output_type": "stream",
     "text": [
      "\n",
      " Logistic Regression:\n",
      "               precision    recall  f1-score   support\n",
      "\n",
      "           0       0.77      0.65      0.70        88\n",
      "           1       0.53      0.17      0.26        53\n",
      "           2       0.67      0.86      0.75       172\n",
      "\n",
      "    accuracy                           0.68       313\n",
      "   macro avg       0.66      0.56      0.57       313\n",
      "weighted avg       0.67      0.68      0.65       313\n",
      "\n"
     ]
    }
   ],
   "source": [
    "# Logistic Regression\n",
    "lr = LogisticRegression(max_iter=1000, random_state=42)\n",
    "lr.fit(X_train_imputed, y_train)\n",
    "y_pred_lr = lr.predict(X_test_imputed)\n",
    "print(\"\\n Logistic Regression:\\n\", classification_report(y_test, y_pred_lr))"
   ]
  },
  {
   "cell_type": "code",
   "execution_count": 359,
   "id": "695d30db-298b-4508-9ac0-f6299ecf120e",
   "metadata": {},
   "outputs": [
    {
     "name": "stdout",
     "output_type": "stream",
     "text": [
      "\n",
      " Tuned Random Forest:\n",
      "               precision    recall  f1-score   support\n",
      "\n",
      "           0       0.91      0.81      0.86        88\n",
      "           1       0.67      0.34      0.45        53\n",
      "           2       0.75      0.91      0.83       172\n",
      "\n",
      "    accuracy                           0.79       313\n",
      "   macro avg       0.78      0.69      0.71       313\n",
      "weighted avg       0.78      0.79      0.77       313\n",
      "\n"
     ]
    }
   ],
   "source": [
    "# Hyperparamater Tuning (Random Forest)\n",
    "param_grid = {\n",
    "    'n_estimators': [50, 100],\n",
    "    'max_depth': [5, 10, None],\n",
    "    'min_samples_split': [2, 5]\n",
    "}\n",
    "grid = GridSearchCV(RandomForestClassifier(random_state=42), param_grid, cv=3, scoring='f1_macro', n_jobs=-1)\n",
    "grid.fit(X_train_imputed, y_train)\n",
    "best_rf = grid.best_estimator_\n",
    "y_pred_best = best_rf.predict(X_test_imputed)\n",
    "print(\"\\n Tuned Random Forest:\\n\", classification_report(y_test, y_pred_best))"
   ]
  },
  {
   "cell_type": "code",
   "execution_count": 363,
   "id": "01356a69-36db-4724-a7c3-b3af84fced11",
   "metadata": {},
   "outputs": [
    {
     "name": "stdout",
     "output_type": "stream",
     "text": [
      "\n",
      " Cross-Validation Results:\n",
      "                      F1 Macro\n",
      "Tuned RF             0.715193\n",
      "Bagging              0.715167\n",
      "Random Forest        0.702979\n",
      "DT Gini              0.669170\n",
      "DT Entropy           0.668360\n",
      "Logistic Regression  0.543641\n"
     ]
    }
   ],
   "source": [
    "# Model Comparision Table\n",
    "\n",
    "models = {\"DT Gini\": dt_gini, \"DT Entropy\": dt_entropy, \"Random Forest\": rf, \"Bagging\": bag, \"Logistic Regression\": lr, \"Tuned RF\": best_rf}\n",
    "cv_results = {name: {\"F1 Macro\": cross_val_score(model, X_train_imputed, y_train, cv=5, scoring='f1_macro').mean()} for name, model in models.items()}\n",
    "cv_df = pd.DataFrame(cv_results).T.sort_values(by=\"F1 Macro\", ascending=False)\n",
    "print(\"\\n Cross-Validation Results:\\n\", cv_df)"
   ]
  },
  {
   "cell_type": "code",
   "execution_count": 325,
   "id": "6d889934-c698-458d-8547-01d88f769971",
   "metadata": {
    "scrolled": true
   },
   "outputs": [
    {
     "data": {
      "image/png": "[encoded data removed]",
      "text/plain": [
       "<Figure size 640x480 with 2 Axes>"
      ]
     },
     "metadata": {},
     "output_type": "display_data"
    }
   ],
   "source": [
    "# Confusion Matrix\n",
    "final_model = bag \n",
    "final_preds = final_model.predict(X_test_imputed)\n",
    "sns.heatmap(confusion_matrix(y_test, final_preds), annot=True, fmt='d', cmap='coolwarm')\n",
    "plt.title(\"Final Model Confusion Matrix\")\n",
    "plt.xlabel(\"Predicted\")\n",
    "plt.ylabel(\"Actual\")\n",
    "plt.show()"
   ]
  },
  {
   "cell_type": "markdown",
   "id": "2b1e276e-127e-4641-95a2-728517822737",
   "metadata": {},
   "source": [
    "### Final Modeling Conclusion\n",
    "\n",
    "After testing several classification models to predict track popularity, I decided that the **Bagging Classifier** was the best fit for this project. While the **Tuned Random Forest** technically had the highest overall **macro F1 score of 0.71 and accuracy of 0.79**, the Bagging model stood out the most to me. It was more accurate at predicting the most popular tracks, which was my primary focus. It hit an **F1 score of 0.80** for class 2, which gave me confidence in its ability to identify breakout hits.\n",
    "\n",
    "The Bagging approach was resilient to noise and was stable across different data splits. Since the dataset includes a variety of musical features like tempo, danceability, loudness, and more. I needed a model that could handle that variability without overfitting. Bagging’s ability to reduce variance while still capturing meaningful patterns made it feel like the right choice for this kind of musical data.\n",
    "\n",
    "I still explored other models including a **Decision Tree**, **Logistic Regression**, and a **Tuned Random Forest** and while each had its strengths, none matched the Bagging model’s performance on the most important class. The **Random Forest** was close, but it struggled a bit more with the mid-tier popularity tracks, and Logistic Regression simply didn’t hold up overall.\n",
    "\n",
    "For Spotify, this model could be especially useful. It could help the platform better predict which tracks are likely to go viral, making early recommendations smarter and more impactful. That could support everything from playlist curation to marketing decisions and even help surface emerging artists faster.\n",
    "\n"
   ]
  },
  {
   "cell_type": "code",
   "execution_count": null,
   "id": "bcd03ac2-b50b-4724-94b9-f464b041cfbe",
   "metadata": {},
   "outputs": [],
   "source": []
  }
 ],
 "metadata": {
  "kernelspec": {
   "display_name": "Python 3 (ipykernel)",
   "language": "python",
   "name": "python3"
  },
  "language_info": {
   "codemirror_mode": {
    "name": "ipython",
    "version": 3
   },
   "file_extension": ".py",
   "mimetype": "text/x-python",
   "name": "python",
   "nbconvert_exporter": "python",
   "pygments_lexer": "ipython3",
   "version": "3.12.7"
  }
 },
 "nbformat": 4,
 "nbformat_minor": 5
}
