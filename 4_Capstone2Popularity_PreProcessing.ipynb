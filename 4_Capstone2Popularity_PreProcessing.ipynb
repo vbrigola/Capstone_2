{
 "cells": [
  {
   "cell_type": "code",
   "execution_count": 266,
   "id": "21db43a0-5752-4099-979b-9f6f4b3ff50a",
   "metadata": {},
   "outputs": [],
   "source": [
    "import pandas as pd\n",
    "import numpy as np\n",
    "from sklearn.model_selection import train_test_split\n",
    "from sklearn.preprocessing import StandardScaler\n",
    "from sklearn.feature_selection import VarianceThreshold\n",
    "from sklearn.preprocessing import LabelEncoder\n",
    "import joblib"
   ]
  },
  {
   "cell_type": "code",
   "execution_count": 268,
   "id": "0776cb7d-f20f-446a-a503-1d03c495ece8",
   "metadata": {},
   "outputs": [
    {
     "data": {
      "text/html": [
       "<div>\n",
       "<style scoped>\n",
       "    .dataframe tbody tr th:only-of-type {\n",
       "        vertical-align: middle;\n",
       "    }\n",
       "\n",
       "    .dataframe tbody tr th {\n",
       "        vertical-align: top;\n",
       "    }\n",
       "\n",
       "    .dataframe thead th {\n",
       "        text-align: right;\n",
       "    }\n",
       "</style>\n",
       "<table border=\"1\" class=\"dataframe\">\n",
       "  <thead>\n",
       "    <tr style=\"text-align: right;\">\n",
       "      <th></th>\n",
       "      <th>track_id</th>\n",
       "      <th>popularity</th>\n",
       "      <th>album_name</th>\n",
       "      <th>track_popularity</th>\n",
       "      <th>track_genre</th>\n",
       "      <th>genre_category</th>\n",
       "      <th>artist_name</th>\n",
       "      <th>track_name</th>\n",
       "      <th>acousticness</th>\n",
       "      <th>danceability</th>\n",
       "      <th>...</th>\n",
       "      <th>instrumentalness</th>\n",
       "      <th>key</th>\n",
       "      <th>liveness</th>\n",
       "      <th>loudness</th>\n",
       "      <th>mode</th>\n",
       "      <th>speechiness</th>\n",
       "      <th>tempo</th>\n",
       "      <th>time_signature</th>\n",
       "      <th>valence</th>\n",
       "      <th>loudness_binned</th>\n",
       "    </tr>\n",
       "  </thead>\n",
       "  <tbody>\n",
       "    <tr>\n",
       "      <th>0</th>\n",
       "      <td>000RDCYioLteXcutOjeweY</td>\n",
       "      <td>48.0</td>\n",
       "      <td>Teeje Week</td>\n",
       "      <td>62.0</td>\n",
       "      <td>hip-hop</td>\n",
       "      <td>hip hop</td>\n",
       "      <td>Jordan Sandhu</td>\n",
       "      <td>Teeje Week</td>\n",
       "      <td>0.0583</td>\n",
       "      <td>0.679</td>\n",
       "      <td>...</td>\n",
       "      <td>0.0000</td>\n",
       "      <td>0.0</td>\n",
       "      <td>0.0825</td>\n",
       "      <td>-3.537</td>\n",
       "      <td>1.0</td>\n",
       "      <td>0.1900</td>\n",
       "      <td>161.721</td>\n",
       "      <td>4.0</td>\n",
       "      <td>0.839</td>\n",
       "      <td>High</td>\n",
       "    </tr>\n",
       "    <tr>\n",
       "      <th>1</th>\n",
       "      <td>013TFRzJWkT41RRSgSenfI</td>\n",
       "      <td>65.0</td>\n",
       "      <td>amo</td>\n",
       "      <td>52.0</td>\n",
       "      <td>metalcore</td>\n",
       "      <td>rock</td>\n",
       "      <td>Bring Me The Horizon</td>\n",
       "      <td>i don't know what to say</td>\n",
       "      <td>0.0154</td>\n",
       "      <td>0.499</td>\n",
       "      <td>...</td>\n",
       "      <td>0.0982</td>\n",
       "      <td>7.0</td>\n",
       "      <td>0.2460</td>\n",
       "      <td>-6.744</td>\n",
       "      <td>0.0</td>\n",
       "      <td>0.0550</td>\n",
       "      <td>92.449</td>\n",
       "      <td>4.0</td>\n",
       "      <td>0.239</td>\n",
       "      <td>High</td>\n",
       "    </tr>\n",
       "    <tr>\n",
       "      <th>2</th>\n",
       "      <td>01BC4Xj5tfsfV8DLDrma7q</td>\n",
       "      <td>65.0</td>\n",
       "      <td>Speak Your Mind (Deluxe)</td>\n",
       "      <td>65.0</td>\n",
       "      <td>house</td>\n",
       "      <td>electronic</td>\n",
       "      <td>Anne-Marie</td>\n",
       "      <td>Ciao Adios</td>\n",
       "      <td>0.1360</td>\n",
       "      <td>0.694</td>\n",
       "      <td>...</td>\n",
       "      <td>0.0000</td>\n",
       "      <td>7.0</td>\n",
       "      <td>0.3220</td>\n",
       "      <td>-3.986</td>\n",
       "      <td>1.0</td>\n",
       "      <td>0.0934</td>\n",
       "      <td>106.098</td>\n",
       "      <td>4.0</td>\n",
       "      <td>0.501</td>\n",
       "      <td>High</td>\n",
       "    </tr>\n",
       "    <tr>\n",
       "      <th>3</th>\n",
       "      <td>01MVOl9KtVTNfFiBU9I7dc</td>\n",
       "      <td>57.0</td>\n",
       "      <td>Days I Will Remember</td>\n",
       "      <td>58.0</td>\n",
       "      <td>acoustic</td>\n",
       "      <td>acoustic</td>\n",
       "      <td>Tyrone Wells</td>\n",
       "      <td>Days I Will Remember</td>\n",
       "      <td>0.2890</td>\n",
       "      <td>0.688</td>\n",
       "      <td>...</td>\n",
       "      <td>0.0000</td>\n",
       "      <td>6.0</td>\n",
       "      <td>0.1890</td>\n",
       "      <td>-8.807</td>\n",
       "      <td>1.0</td>\n",
       "      <td>0.1050</td>\n",
       "      <td>98.017</td>\n",
       "      <td>4.0</td>\n",
       "      <td>0.666</td>\n",
       "      <td>High</td>\n",
       "    </tr>\n",
       "    <tr>\n",
       "      <th>4</th>\n",
       "      <td>01MVOl9KtVTNfFiBU9I7dc</td>\n",
       "      <td>57.0</td>\n",
       "      <td>Days I Will Remember</td>\n",
       "      <td>58.0</td>\n",
       "      <td>indie-pop</td>\n",
       "      <td>pop</td>\n",
       "      <td>Tyrone Wells</td>\n",
       "      <td>Days I Will Remember</td>\n",
       "      <td>0.2890</td>\n",
       "      <td>0.688</td>\n",
       "      <td>...</td>\n",
       "      <td>0.0000</td>\n",
       "      <td>6.0</td>\n",
       "      <td>0.1890</td>\n",
       "      <td>-8.807</td>\n",
       "      <td>1.0</td>\n",
       "      <td>0.1050</td>\n",
       "      <td>98.017</td>\n",
       "      <td>4.0</td>\n",
       "      <td>0.666</td>\n",
       "      <td>High</td>\n",
       "    </tr>\n",
       "  </tbody>\n",
       "</table>\n",
       "<p>5 rows × 22 columns</p>\n",
       "</div>"
      ],
      "text/plain": [
       "                 track_id  popularity                album_name  \\\n",
       "0  000RDCYioLteXcutOjeweY        48.0                Teeje Week   \n",
       "1  013TFRzJWkT41RRSgSenfI        65.0                       amo   \n",
       "2  01BC4Xj5tfsfV8DLDrma7q        65.0  Speak Your Mind (Deluxe)   \n",
       "3  01MVOl9KtVTNfFiBU9I7dc        57.0      Days I Will Remember   \n",
       "4  01MVOl9KtVTNfFiBU9I7dc        57.0      Days I Will Remember   \n",
       "\n",
       "   track_popularity track_genre genre_category           artist_name  \\\n",
       "0              62.0     hip-hop        hip hop         Jordan Sandhu   \n",
       "1              52.0   metalcore           rock  Bring Me The Horizon   \n",
       "2              65.0       house     electronic            Anne-Marie   \n",
       "3              58.0    acoustic       acoustic          Tyrone Wells   \n",
       "4              58.0   indie-pop            pop          Tyrone Wells   \n",
       "\n",
       "                 track_name  acousticness  danceability  ...  \\\n",
       "0                Teeje Week        0.0583         0.679  ...   \n",
       "1  i don't know what to say        0.0154         0.499  ...   \n",
       "2                Ciao Adios        0.1360         0.694  ...   \n",
       "3      Days I Will Remember        0.2890         0.688  ...   \n",
       "4      Days I Will Remember        0.2890         0.688  ...   \n",
       "\n",
       "   instrumentalness  key  liveness  loudness  mode  speechiness    tempo  \\\n",
       "0            0.0000  0.0    0.0825    -3.537   1.0       0.1900  161.721   \n",
       "1            0.0982  7.0    0.2460    -6.744   0.0       0.0550   92.449   \n",
       "2            0.0000  7.0    0.3220    -3.986   1.0       0.0934  106.098   \n",
       "3            0.0000  6.0    0.1890    -8.807   1.0       0.1050   98.017   \n",
       "4            0.0000  6.0    0.1890    -8.807   1.0       0.1050   98.017   \n",
       "\n",
       "   time_signature  valence  loudness_binned  \n",
       "0             4.0    0.839             High  \n",
       "1             4.0    0.239             High  \n",
       "2             4.0    0.501             High  \n",
       "3             4.0    0.666             High  \n",
       "4             4.0    0.666             High  \n",
       "\n",
       "[5 rows x 22 columns]"
      ]
     },
     "metadata": {},
     "output_type": "display_data"
    }
   ],
   "source": [
    "df = pd.read_csv('masterfinal.csv')\n",
    "display(df.head())"
   ]
  },
  {
   "cell_type": "code",
   "execution_count": 270,
   "id": "ff595a25-7f14-4468-9c28-05a27fceeee8",
   "metadata": {},
   "outputs": [],
   "source": [
    "drop_cols = ['track_name', 'artist_name', 'album_name', 'track_id']\n",
    "df_model = df.drop(columns=[col for col in drop_cols if col in df.columns])"
   ]
  },
  {
   "cell_type": "code",
   "execution_count": 272,
   "id": "5d3569ac-572a-4d17-b2bf-34252a931ddf",
   "metadata": {},
   "outputs": [],
   "source": [
    "bins = [0, 40, 70, 100]\n",
    "labels = ['Low', 'Medium', 'High']\n",
    "df_model['popularity_class'] = pd.cut(df_model['popularity'], bins=bins, labels=labels, include_lowest=True)"
   ]
  },
  {
   "cell_type": "code",
   "execution_count": 274,
   "id": "d210ecf3-8dac-43d8-8919-b179d6042832",
   "metadata": {},
   "outputs": [
    {
     "name": "stdout",
     "output_type": "stream",
     "text": [
      "Binary popularity class distribution:\n",
      "is_popular\n",
      "0    1235\n",
      "1     332\n",
      "Name: count, dtype: int64\n"
     ]
    }
   ],
   "source": [
    "df_model['is_popular'] = (df_model['track_popularity'] >= 70).astype(int)\n",
    "print(\"Binary popularity class distribution:\")\n",
    "print(df_model['is_popular'].value_counts())"
   ]
  },
  {
   "cell_type": "code",
   "execution_count": 300,
   "id": "5451d113-7266-42e5-884f-bfd85454a03b",
   "metadata": {},
   "outputs": [
    {
     "data": {
      "image/png": "[encoded data removed]",
      "text/plain": [
       "<Figure size 600x400 with 1 Axes>"
      ]
     },
     "metadata": {},
     "output_type": "display_data"
    }
   ],
   "source": [
    "import seaborn as sns\n",
    "import matplotlib.pyplot as plt\n",
    "\n",
    "plt.figure(figsize=(6, 4))\n",
    "sns.countplot(x='is_popular', hue='is_popular', data=df_model, palette={0: 'coral', 1: 'mediumseagreen'}, legend=False)\n",
    "\n",
    "plt.title('Distribution of Popular vs Non-Popular Tracks')\n",
    "plt.xlabel('Is Popular (1 = Yes, 0 = No)')\n",
    "plt.ylabel('Count')\n",
    "plt.xticks([0, 1], ['Not Popular', 'Popular'])\n",
    "plt.tight_layout()\n",
    "plt.show()"
   ]
  },
  {
   "cell_type": "code",
   "execution_count": 276,
   "id": "be39eadd-863b-458d-99c1-0d4f9e46f88c",
   "metadata": {},
   "outputs": [],
   "source": [
    "le = LabelEncoder()\n",
    "df_model['popularity_class'] = le.fit_transform(df_model['popularity_class'])"
   ]
  },
  {
   "cell_type": "code",
   "execution_count": 278,
   "id": "9434ef1f-16b6-4d6b-8934-3e4f428d7e46",
   "metadata": {},
   "outputs": [],
   "source": [
    "df_model = df_model.dropna()"
   ]
  },
  {
   "cell_type": "code",
   "execution_count": 280,
   "id": "fcc73a2d-f0cc-4115-924d-2babf78e0b28",
   "metadata": {},
   "outputs": [],
   "source": [
    "for col in ['danceability', 'loudness', 'instrumentalness']:\n",
    "    q_low = df_model[col].quantile(0.01)\n",
    "    q_high = df_model[col].quantile(0.99)\n",
    "    df_model[col] = df_model[col].clip(lower=q_low, upper=q_high)"
   ]
  },
  {
   "cell_type": "code",
   "execution_count": 282,
   "id": "739dd844-76ff-4d36-9c80-5c2b641a40e1",
   "metadata": {},
   "outputs": [],
   "source": [
    "df_encoded = pd.get_dummies(df_model, columns=['genre_category'], drop_first=True)"
   ]
  },
  {
   "cell_type": "code",
   "execution_count": 284,
   "id": "4798cc57-2912-43da-8ef8-31fa17e4e1cd",
   "metadata": {},
   "outputs": [],
   "source": [
    "X = df_encoded.drop(columns=['track_popularity', 'popularity_class'])\n",
    "y = df_encoded['popularity_class']"
   ]
  },
  {
   "cell_type": "code",
   "execution_count": 286,
   "id": "6914bfba-2436-440d-bcea-453c15167090",
   "metadata": {},
   "outputs": [],
   "source": [
    "scaler = StandardScaler()\n",
    "num_cols = X.select_dtypes(include=['float64', 'int64']).columns\n",
    "X[num_cols] = scaler.fit_transform(X[num_cols])"
   ]
  },
  {
   "cell_type": "code",
   "execution_count": 302,
   "id": "086ae3c9-53bc-4c74-aa34-db0dbb5cd5af",
   "metadata": {},
   "outputs": [],
   "source": [
    "X_train, X_test, y_train, y_test = train_test_split(X, y, test_size=0.2, random_state=42, stratify=y)"
   ]
  },
  {
   "cell_type": "code",
   "execution_count": 304,
   "id": "0afff0af-828e-4789-964c-548f9f24c161",
   "metadata": {},
   "outputs": [
    {
     "name": "stdout",
     "output_type": "stream",
     "text": [
      "X_train shape: (1251, 85)\n",
      "X_test shape: (313, 85)\n",
      "y_train shape: (1251,)\n",
      "y_test shape: (313,)\n"
     ]
    }
   ],
   "source": [
    "print(\"X_train shape:\", X_train.shape)\n",
    "print(\"X_test shape:\", X_test.shape)\n",
    "print(\"y_train shape:\", y_train.shape)\n",
    "print(\"y_test shape:\", y_test.shape)"
   ]
  },
  {
   "cell_type": "code",
   "execution_count": 306,
   "id": "bf97a120-ef19-4d0c-b52f-82665728892c",
   "metadata": {},
   "outputs": [
    {
     "data": {
      "text/plain": [
       "['label_encoder.joblib']"
      ]
     },
     "execution_count": 306,
     "metadata": {},
     "output_type": "execute_result"
    }
   ],
   "source": [
    "X_train.to_csv(\"X_train.csv\", index=False)\n",
    "X_test.to_csv(\"X_test.csv\", index=False)\n",
    "y_train.to_csv(\"y_train.csv\", index=False)\n",
    "y_test.to_csv(\"y_test.csv\", index=False)\n",
    "joblib.dump(scaler, \"scaler.joblib\")\n",
    "joblib.dump(le, \"label_encoder.joblib\")"
   ]
  },
  {
   "cell_type": "code",
   "execution_count": null,
   "id": "1174f887-44cc-4b20-8e69-699e217c39eb",
   "metadata": {},
   "outputs": [],
   "source": []
  }
 ],
 "metadata": {
  "kernelspec": {
   "display_name": "Python 3 (ipykernel)",
   "language": "python",
   "name": "python3"
  },
  "language_info": {
   "codemirror_mode": {
    "name": "ipython",
    "version": 3
   },
   "file_extension": ".py",
   "mimetype": "text/x-python",
   "name": "python",
   "nbconvert_exporter": "python",
   "pygments_lexer": "ipython3",
   "version": "3.12.7"
  }
 },
 "nbformat": 4,
 "nbformat_minor": 5
}
