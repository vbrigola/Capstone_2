{
 "cells": [
  {
   "cell_type": "code",
   "execution_count": 188,
   "id": "5189dee0-c2c1-44ee-a553-d018e0ab9c45",
   "metadata": {},
   "outputs": [],
   "source": [
    "import pandas as pd\n",
    "import numpy as np\n",
    "\n",
    "from sklearn.model_selection import train_test_split\n",
    "from sklearn.preprocessing import OneHotEncoder, StandardScaler\n",
    "from sklearn.impute import SimpleImputer\n",
    "from sklearn.compose import ColumnTransformer\n",
    "from sklearn.pipeline import Pipeline\n",
    "import joblib\n",
    "\n",
    "import matplotlib.pyplot as plt\n",
    "import seaborn as sns"
   ]
  },
  {
   "cell_type": "code",
   "execution_count": 190,
   "id": "5f1eb767-4372-42ff-922d-bab6986893e2",
   "metadata": {},
   "outputs": [],
   "source": [
    "df_path = 'spotifyeda.csv'"
   ]
  },
  {
   "cell_type": "code",
   "execution_count": 192,
   "id": "df828a2a-767c-4206-8dc3-c9187f6f863c",
   "metadata": {},
   "outputs": [],
   "source": [
    "df = pd.read_csv('spotifyeda.csv')"
   ]
  },
  {
   "cell_type": "code",
   "execution_count": 194,
   "id": "a20a6a32-bb82-4c4a-addb-60a7bd34cc82",
   "metadata": {},
   "outputs": [
    {
     "data": {
      "text/html": [
       "<div>\n",
       "<style scoped>\n",
       "    .dataframe tbody tr th:only-of-type {\n",
       "        vertical-align: middle;\n",
       "    }\n",
       "\n",
       "    .dataframe tbody tr th {\n",
       "        vertical-align: top;\n",
       "    }\n",
       "\n",
       "    .dataframe thead th {\n",
       "        text-align: right;\n",
       "    }\n",
       "</style>\n",
       "<table border=\"1\" class=\"dataframe\">\n",
       "  <thead>\n",
       "    <tr style=\"text-align: right;\">\n",
       "      <th></th>\n",
       "      <th>playlist_url</th>\n",
       "      <th>year</th>\n",
       "      <th>track_id</th>\n",
       "      <th>track_name</th>\n",
       "      <th>track_popularity</th>\n",
       "      <th>album_name</th>\n",
       "      <th>artist_id</th>\n",
       "      <th>artist_name</th>\n",
       "      <th>artist_genres</th>\n",
       "      <th>artist_popularity</th>\n",
       "      <th>...</th>\n",
       "      <th>duration_ms</th>\n",
       "      <th>time_signature</th>\n",
       "      <th>genre_category</th>\n",
       "      <th>track_index</th>\n",
       "      <th>track_genre</th>\n",
       "      <th>explicit</th>\n",
       "      <th>artist_pop_bin</th>\n",
       "      <th>is_hiphop</th>\n",
       "      <th>duration_sec</th>\n",
       "      <th>hiphop_label</th>\n",
       "    </tr>\n",
       "  </thead>\n",
       "  <tbody>\n",
       "    <tr>\n",
       "      <th>0</th>\n",
       "      <td>https://open.spotify.com/playlist/37i9dQZF1DWU...</td>\n",
       "      <td>2000</td>\n",
       "      <td>2m1hi0nfMR9vdGC8UcrnwU</td>\n",
       "      <td>all the small things</td>\n",
       "      <td>83</td>\n",
       "      <td>enema of the state</td>\n",
       "      <td>6FBDaR13swtiWwGhX1WQsP</td>\n",
       "      <td>blink-182</td>\n",
       "      <td>['alternative metal', 'modern rock', 'pop punk...</td>\n",
       "      <td>79</td>\n",
       "      <td>...</td>\n",
       "      <td>167067</td>\n",
       "      <td>4</td>\n",
       "      <td>rock</td>\n",
       "      <td>85056</td>\n",
       "      <td>punk-rock</td>\n",
       "      <td>0</td>\n",
       "      <td>Mid-High</td>\n",
       "      <td>False</td>\n",
       "      <td>167.067</td>\n",
       "      <td>Other</td>\n",
       "    </tr>\n",
       "    <tr>\n",
       "      <th>1</th>\n",
       "      <td>https://open.spotify.com/playlist/37i9dQZF1DWU...</td>\n",
       "      <td>2000</td>\n",
       "      <td>3y4LxiYMgDl4RethdzpmNe</td>\n",
       "      <td>breathe</td>\n",
       "      <td>66</td>\n",
       "      <td>breathe</td>\n",
       "      <td>25NQNriVT2YbSW80ILRWJa</td>\n",
       "      <td>faith hill</td>\n",
       "      <td>['contemporary country', 'country', 'country d...</td>\n",
       "      <td>62</td>\n",
       "      <td>...</td>\n",
       "      <td>250547</td>\n",
       "      <td>4</td>\n",
       "      <td>country</td>\n",
       "      <td>19859</td>\n",
       "      <td>country</td>\n",
       "      <td>0</td>\n",
       "      <td>Low</td>\n",
       "      <td>False</td>\n",
       "      <td>250.547</td>\n",
       "      <td>Other</td>\n",
       "    </tr>\n",
       "    <tr>\n",
       "      <th>2</th>\n",
       "      <td>https://open.spotify.com/playlist/37i9dQZF1DWU...</td>\n",
       "      <td>2000</td>\n",
       "      <td>0v1XpBHnsbkCn7iJ9Ucr1l</td>\n",
       "      <td>it's my life</td>\n",
       "      <td>81</td>\n",
       "      <td>crush</td>\n",
       "      <td>58lV9VcRSjABbAbfWS6skp</td>\n",
       "      <td>bon jovi</td>\n",
       "      <td>['glam metal', 'rock']</td>\n",
       "      <td>79</td>\n",
       "      <td>...</td>\n",
       "      <td>224493</td>\n",
       "      <td>4</td>\n",
       "      <td>rock</td>\n",
       "      <td>71055</td>\n",
       "      <td>metal</td>\n",
       "      <td>0</td>\n",
       "      <td>Mid-High</td>\n",
       "      <td>False</td>\n",
       "      <td>224.493</td>\n",
       "      <td>Other</td>\n",
       "    </tr>\n",
       "    <tr>\n",
       "      <th>3</th>\n",
       "      <td>https://open.spotify.com/playlist/37i9dQZF1DWU...</td>\n",
       "      <td>2000</td>\n",
       "      <td>3yfqSUWxFvZELEM4PmlwIR</td>\n",
       "      <td>the real slim shady</td>\n",
       "      <td>87</td>\n",
       "      <td>the marshall mathers lp</td>\n",
       "      <td>7dGJo4pcD2V6oG8kP0tJRR</td>\n",
       "      <td>eminem</td>\n",
       "      <td>['detroit hip hop', 'hip hop', 'rap']</td>\n",
       "      <td>90</td>\n",
       "      <td>...</td>\n",
       "      <td>284200</td>\n",
       "      <td>4</td>\n",
       "      <td>hip hop / rap</td>\n",
       "      <td>51216</td>\n",
       "      <td>hip-hop</td>\n",
       "      <td>1</td>\n",
       "      <td>High</td>\n",
       "      <td>True</td>\n",
       "      <td>284.200</td>\n",
       "      <td>Hip-Hop / Rap</td>\n",
       "    </tr>\n",
       "    <tr>\n",
       "      <th>4</th>\n",
       "      <td>https://open.spotify.com/playlist/37i9dQZF1DWU...</td>\n",
       "      <td>2000</td>\n",
       "      <td>60a0Rd6pjrkxjPbaKzXjfq</td>\n",
       "      <td>in the end</td>\n",
       "      <td>88</td>\n",
       "      <td>hybrid theory (bonus edition)</td>\n",
       "      <td>6XyY86QOPPrYVGvF9ch6wz</td>\n",
       "      <td>linkin park</td>\n",
       "      <td>['alternative metal', 'nu metal', 'post-grunge...</td>\n",
       "      <td>86</td>\n",
       "      <td>...</td>\n",
       "      <td>216880</td>\n",
       "      <td>4</td>\n",
       "      <td>rock</td>\n",
       "      <td>3006</td>\n",
       "      <td>alternative</td>\n",
       "      <td>0</td>\n",
       "      <td>High</td>\n",
       "      <td>False</td>\n",
       "      <td>216.880</td>\n",
       "      <td>Other</td>\n",
       "    </tr>\n",
       "  </tbody>\n",
       "</table>\n",
       "<p>5 rows × 31 columns</p>\n",
       "</div>"
      ],
      "text/plain": [
       "                                        playlist_url  year  \\\n",
       "0  https://open.spotify.com/playlist/37i9dQZF1DWU...  2000   \n",
       "1  https://open.spotify.com/playlist/37i9dQZF1DWU...  2000   \n",
       "2  https://open.spotify.com/playlist/37i9dQZF1DWU...  2000   \n",
       "3  https://open.spotify.com/playlist/37i9dQZF1DWU...  2000   \n",
       "4  https://open.spotify.com/playlist/37i9dQZF1DWU...  2000   \n",
       "\n",
       "                 track_id            track_name  track_popularity  \\\n",
       "0  2m1hi0nfMR9vdGC8UcrnwU  all the small things                83   \n",
       "1  3y4LxiYMgDl4RethdzpmNe               breathe                66   \n",
       "2  0v1XpBHnsbkCn7iJ9Ucr1l          it's my life                81   \n",
       "3  3yfqSUWxFvZELEM4PmlwIR   the real slim shady                87   \n",
       "4  60a0Rd6pjrkxjPbaKzXjfq            in the end                88   \n",
       "\n",
       "                      album_name               artist_id  artist_name  \\\n",
       "0             enema of the state  6FBDaR13swtiWwGhX1WQsP    blink-182   \n",
       "1                        breathe  25NQNriVT2YbSW80ILRWJa   faith hill   \n",
       "2                          crush  58lV9VcRSjABbAbfWS6skp     bon jovi   \n",
       "3        the marshall mathers lp  7dGJo4pcD2V6oG8kP0tJRR       eminem   \n",
       "4  hybrid theory (bonus edition)  6XyY86QOPPrYVGvF9ch6wz  linkin park   \n",
       "\n",
       "                                       artist_genres  artist_popularity  ...  \\\n",
       "0  ['alternative metal', 'modern rock', 'pop punk...                 79  ...   \n",
       "1  ['contemporary country', 'country', 'country d...                 62  ...   \n",
       "2                             ['glam metal', 'rock']                 79  ...   \n",
       "3              ['detroit hip hop', 'hip hop', 'rap']                 90  ...   \n",
       "4  ['alternative metal', 'nu metal', 'post-grunge...                 86  ...   \n",
       "\n",
       "   duration_ms  time_signature  genre_category  track_index  track_genre  \\\n",
       "0       167067               4            rock        85056    punk-rock   \n",
       "1       250547               4         country        19859      country   \n",
       "2       224493               4            rock        71055        metal   \n",
       "3       284200               4   hip hop / rap        51216      hip-hop   \n",
       "4       216880               4            rock         3006  alternative   \n",
       "\n",
       "   explicit  artist_pop_bin  is_hiphop  duration_sec   hiphop_label  \n",
       "0         0        Mid-High      False       167.067          Other  \n",
       "1         0             Low      False       250.547          Other  \n",
       "2         0        Mid-High      False       224.493          Other  \n",
       "3         1            High       True       284.200  Hip-Hop / Rap  \n",
       "4         0            High      False       216.880          Other  \n",
       "\n",
       "[5 rows x 31 columns]"
      ]
     },
     "execution_count": 194,
     "metadata": {},
     "output_type": "execute_result"
    }
   ],
   "source": [
    "df.head()"
   ]
  },
  {
   "cell_type": "code",
   "execution_count": 206,
   "id": "387b2704-fdaa-408d-939e-a35731a1a73b",
   "metadata": {},
   "outputs": [
    {
     "data": {
      "text/plain": [
       "(67, 30)"
      ]
     },
     "execution_count": 206,
     "metadata": {},
     "output_type": "execute_result"
    }
   ],
   "source": [
    "df.shape"
   ]
  },
  {
   "cell_type": "code",
   "execution_count": 208,
   "id": "f401de65-814c-40f8-a9b0-f70cb01a4640",
   "metadata": {},
   "outputs": [],
   "source": [
    "GENRE_CANDIDATES = {\"genre_category\", \"track_genre\", \"genre\"}\n",
    "GENRE_COLS = [c for c in df.columns if c.lower() in GENRE_CANDIDATES]\n",
    "if not GENRE_COLS:\n",
    "    raise KeyError(\"No genre column found – cannot filter to Hip‑Hop tracks.\")\n",
    "GENRE_COL = GENRE_COLS[0]"
   ]
  },
  {
   "cell_type": "code",
   "execution_count": 214,
   "id": "66cd5c8f-e5df-4057-8fb6-73104dd1e210",
   "metadata": {},
   "outputs": [
    {
     "name": "stdout",
     "output_type": "stream",
     "text": [
      "After hip‑hop filter : (34, 30)\n"
     ]
    }
   ],
   "source": [
    "mask_hiphop = df[GENRE_COL].str.contains(\"hip\", case=False, na=False)\n",
    "df = df[mask_hiphop].copy()\n",
    "print(f\"After hip‑hop filter : {df.shape}\")"
   ]
  },
  {
   "cell_type": "code",
   "execution_count": 216,
   "id": "182d2ff6-4ebf-4589-8ffb-ed6683cf6705",
   "metadata": {},
   "outputs": [],
   "source": [
    "if GENRE_COL in df.columns and df[GENRE_COL].nunique() == 1:\n",
    "    df.drop(columns=GENRE_COL, inplace=True)"
   ]
  },
  {
   "cell_type": "code",
   "execution_count": 218,
   "id": "d38841cc-c8bd-4874-85bb-506cea47b841",
   "metadata": {},
   "outputs": [
    {
     "data": {
      "text/html": [
       "<div>\n",
       "<style scoped>\n",
       "    .dataframe tbody tr th:only-of-type {\n",
       "        vertical-align: middle;\n",
       "    }\n",
       "\n",
       "    .dataframe tbody tr th {\n",
       "        vertical-align: top;\n",
       "    }\n",
       "\n",
       "    .dataframe thead th {\n",
       "        text-align: right;\n",
       "    }\n",
       "</style>\n",
       "<table border=\"1\" class=\"dataframe\">\n",
       "  <thead>\n",
       "    <tr style=\"text-align: right;\">\n",
       "      <th></th>\n",
       "      <th>playlist_url</th>\n",
       "      <th>year</th>\n",
       "      <th>track_id</th>\n",
       "      <th>track_name</th>\n",
       "      <th>track_popularity</th>\n",
       "      <th>album_name</th>\n",
       "      <th>artist_id</th>\n",
       "      <th>artist_name</th>\n",
       "      <th>artist_genres</th>\n",
       "      <th>artist_popularity</th>\n",
       "      <th>...</th>\n",
       "      <th>valence</th>\n",
       "      <th>tempo</th>\n",
       "      <th>duration_ms</th>\n",
       "      <th>time_signature</th>\n",
       "      <th>track_index</th>\n",
       "      <th>explicit</th>\n",
       "      <th>artist_pop_bin</th>\n",
       "      <th>is_hiphop</th>\n",
       "      <th>duration_sec</th>\n",
       "      <th>hiphop_label</th>\n",
       "    </tr>\n",
       "  </thead>\n",
       "  <tbody>\n",
       "    <tr>\n",
       "      <th>3</th>\n",
       "      <td>https://open.spotify.com/playlist/37i9dQZF1DWU...</td>\n",
       "      <td>2000</td>\n",
       "      <td>3yfqSUWxFvZELEM4PmlwIR</td>\n",
       "      <td>the real slim shady</td>\n",
       "      <td>87</td>\n",
       "      <td>the marshall mathers lp</td>\n",
       "      <td>7dGJo4pcD2V6oG8kP0tJRR</td>\n",
       "      <td>eminem</td>\n",
       "      <td>['detroit hip hop', 'hip hop', 'rap']</td>\n",
       "      <td>90</td>\n",
       "      <td>...</td>\n",
       "      <td>0.760</td>\n",
       "      <td>104.504</td>\n",
       "      <td>284200</td>\n",
       "      <td>4</td>\n",
       "      <td>51216</td>\n",
       "      <td>1</td>\n",
       "      <td>High</td>\n",
       "      <td>True</td>\n",
       "      <td>284.200</td>\n",
       "      <td>Hip-Hop / Rap</td>\n",
       "    </tr>\n",
       "    <tr>\n",
       "      <th>26</th>\n",
       "      <td>https://open.spotify.com/playlist/37i9dQZF1DX9...</td>\n",
       "      <td>2001</td>\n",
       "      <td>3UmaczJpikHgJFyBTAJVoz</td>\n",
       "      <td>stan</td>\n",
       "      <td>82</td>\n",
       "      <td>the marshall mathers lp</td>\n",
       "      <td>7dGJo4pcD2V6oG8kP0tJRR</td>\n",
       "      <td>eminem</td>\n",
       "      <td>['detroit hip hop', 'hip hop', 'rap']</td>\n",
       "      <td>90</td>\n",
       "      <td>...</td>\n",
       "      <td>0.507</td>\n",
       "      <td>80.063</td>\n",
       "      <td>404107</td>\n",
       "      <td>4</td>\n",
       "      <td>51301</td>\n",
       "      <td>1</td>\n",
       "      <td>High</td>\n",
       "      <td>True</td>\n",
       "      <td>404.107</td>\n",
       "      <td>Hip-Hop / Rap</td>\n",
       "    </tr>\n",
       "    <tr>\n",
       "      <th>48</th>\n",
       "      <td>https://open.spotify.com/playlist/37i9dQZF1DX0...</td>\n",
       "      <td>2002</td>\n",
       "      <td>7lQ8MOhq6IN2w8EYcFNSUk</td>\n",
       "      <td>without me</td>\n",
       "      <td>88</td>\n",
       "      <td>the eminem show</td>\n",
       "      <td>7dGJo4pcD2V6oG8kP0tJRR</td>\n",
       "      <td>eminem</td>\n",
       "      <td>['detroit hip hop', 'hip hop', 'rap']</td>\n",
       "      <td>90</td>\n",
       "      <td>...</td>\n",
       "      <td>0.662</td>\n",
       "      <td>112.238</td>\n",
       "      <td>290320</td>\n",
       "      <td>4</td>\n",
       "      <td>51159</td>\n",
       "      <td>1</td>\n",
       "      <td>High</td>\n",
       "      <td>True</td>\n",
       "      <td>290.320</td>\n",
       "      <td>Hip-Hop / Rap</td>\n",
       "    </tr>\n",
       "    <tr>\n",
       "      <th>50</th>\n",
       "      <td>https://open.spotify.com/playlist/37i9dQZF1DX0...</td>\n",
       "      <td>2002</td>\n",
       "      <td>4xkOaSrkexMciUUogZKVTS</td>\n",
       "      <td>till i collapse</td>\n",
       "      <td>84</td>\n",
       "      <td>the eminem show</td>\n",
       "      <td>7dGJo4pcD2V6oG8kP0tJRR</td>\n",
       "      <td>eminem</td>\n",
       "      <td>['detroit hip hop', 'hip hop', 'rap']</td>\n",
       "      <td>90</td>\n",
       "      <td>...</td>\n",
       "      <td>0.100</td>\n",
       "      <td>171.447</td>\n",
       "      <td>297787</td>\n",
       "      <td>4</td>\n",
       "      <td>51277</td>\n",
       "      <td>1</td>\n",
       "      <td>High</td>\n",
       "      <td>True</td>\n",
       "      <td>297.787</td>\n",
       "      <td>Hip-Hop / Rap</td>\n",
       "    </tr>\n",
       "    <tr>\n",
       "      <th>205</th>\n",
       "      <td>https://open.spotify.com/playlist/37i9dQZF1DXc...</td>\n",
       "      <td>2010</td>\n",
       "      <td>15JINEqzVMv3SvJTAXAKED</td>\n",
       "      <td>love the way you lie</td>\n",
       "      <td>85</td>\n",
       "      <td>recovery</td>\n",
       "      <td>7dGJo4pcD2V6oG8kP0tJRR</td>\n",
       "      <td>eminem</td>\n",
       "      <td>['detroit hip hop', 'hip hop', 'rap']</td>\n",
       "      <td>90</td>\n",
       "      <td>...</td>\n",
       "      <td>0.641</td>\n",
       "      <td>86.989</td>\n",
       "      <td>263373</td>\n",
       "      <td>4</td>\n",
       "      <td>51401</td>\n",
       "      <td>1</td>\n",
       "      <td>High</td>\n",
       "      <td>True</td>\n",
       "      <td>263.373</td>\n",
       "      <td>Hip-Hop / Rap</td>\n",
       "    </tr>\n",
       "  </tbody>\n",
       "</table>\n",
       "<p>5 rows × 29 columns</p>\n",
       "</div>"
      ],
      "text/plain": [
       "                                          playlist_url  year  \\\n",
       "3    https://open.spotify.com/playlist/37i9dQZF1DWU...  2000   \n",
       "26   https://open.spotify.com/playlist/37i9dQZF1DX9...  2001   \n",
       "48   https://open.spotify.com/playlist/37i9dQZF1DX0...  2002   \n",
       "50   https://open.spotify.com/playlist/37i9dQZF1DX0...  2002   \n",
       "205  https://open.spotify.com/playlist/37i9dQZF1DXc...  2010   \n",
       "\n",
       "                   track_id            track_name  track_popularity  \\\n",
       "3    3yfqSUWxFvZELEM4PmlwIR   the real slim shady                87   \n",
       "26   3UmaczJpikHgJFyBTAJVoz                  stan                82   \n",
       "48   7lQ8MOhq6IN2w8EYcFNSUk            without me                88   \n",
       "50   4xkOaSrkexMciUUogZKVTS       till i collapse                84   \n",
       "205  15JINEqzVMv3SvJTAXAKED  love the way you lie                85   \n",
       "\n",
       "                  album_name               artist_id artist_name  \\\n",
       "3    the marshall mathers lp  7dGJo4pcD2V6oG8kP0tJRR      eminem   \n",
       "26   the marshall mathers lp  7dGJo4pcD2V6oG8kP0tJRR      eminem   \n",
       "48           the eminem show  7dGJo4pcD2V6oG8kP0tJRR      eminem   \n",
       "50           the eminem show  7dGJo4pcD2V6oG8kP0tJRR      eminem   \n",
       "205                 recovery  7dGJo4pcD2V6oG8kP0tJRR      eminem   \n",
       "\n",
       "                             artist_genres  artist_popularity  ...  valence  \\\n",
       "3    ['detroit hip hop', 'hip hop', 'rap']                 90  ...    0.760   \n",
       "26   ['detroit hip hop', 'hip hop', 'rap']                 90  ...    0.507   \n",
       "48   ['detroit hip hop', 'hip hop', 'rap']                 90  ...    0.662   \n",
       "50   ['detroit hip hop', 'hip hop', 'rap']                 90  ...    0.100   \n",
       "205  ['detroit hip hop', 'hip hop', 'rap']                 90  ...    0.641   \n",
       "\n",
       "       tempo  duration_ms  time_signature  track_index  explicit  \\\n",
       "3    104.504       284200               4        51216         1   \n",
       "26    80.063       404107               4        51301         1   \n",
       "48   112.238       290320               4        51159         1   \n",
       "50   171.447       297787               4        51277         1   \n",
       "205   86.989       263373               4        51401         1   \n",
       "\n",
       "     artist_pop_bin  is_hiphop  duration_sec   hiphop_label  \n",
       "3              High       True       284.200  Hip-Hop / Rap  \n",
       "26             High       True       404.107  Hip-Hop / Rap  \n",
       "48             High       True       290.320  Hip-Hop / Rap  \n",
       "50             High       True       297.787  Hip-Hop / Rap  \n",
       "205            High       True       263.373  Hip-Hop / Rap  \n",
       "\n",
       "[5 rows x 29 columns]"
      ]
     },
     "execution_count": 218,
     "metadata": {},
     "output_type": "execute_result"
    }
   ],
   "source": [
    "df.head()"
   ]
  },
  {
   "cell_type": "code",
   "execution_count": 220,
   "id": "e42c0d05-5263-422b-ac8f-93722dc7ec24",
   "metadata": {},
   "outputs": [
    {
     "name": "stdout",
     "output_type": "stream",
     "text": [
      "After clean‑up : (34, 27)\n"
     ]
    }
   ],
   "source": [
    "ID_COLS = [\"track_id\", \"track_name\"]  # high‑cardinality ids\n",
    "TOO_SPARSE = []                        # add >95 % missing cols here\n",
    "\n",
    "df.drop(columns=[c for c in ID_COLS + TOO_SPARSE if c in df.columns], inplace=True)\n",
    "df.drop_duplicates(inplace=True)\n",
    "print(f\"After clean‑up : {df.shape}\")\n"
   ]
  },
  {
   "cell_type": "code",
   "execution_count": 224,
   "id": "3193aaaf-6075-4088-ac6b-8e898e6cefe8",
   "metadata": {},
   "outputs": [
    {
     "name": "stdout",
     "output_type": "stream",
     "text": [
      "\n",
      "Added artist_popularity – preview:\n",
      "    artist_name  track_popularity  artist_popularity\n",
      "3        eminem                87                 90\n",
      "26       eminem                82                 90\n",
      "48       eminem                88                 90\n",
      "50       eminem                84                 90\n",
      "205      eminem                85                 90\n"
     ]
    }
   ],
   "source": [
    "if \"artist_popularity\" not in df.columns:\n",
    "    required = {\"artist_name\", \"track_popularity\"}\n",
    "    missing  = required.difference(df.columns)\n",
    "    if missing:\n",
    "        raise KeyError(f\"Missing columns required for artist_popularity: {missing}\")\n",
    "\n",
    "    artist_pop = (\n",
    "        df.groupby(\"artist_name\")[\"track_popularity\"].mean()\n",
    "          .rename(\"artist_popularity\")\n",
    "    )\n",
    "    df = df.merge(artist_pop, on=\"artist_name\", how=\"left\")\n",
    "\n",
    "print(\"\\nAdded artist_popularity – preview:\")\n",
    "print(df[[\"artist_name\", \"track_popularity\", \"artist_popularity\"]].head())"
   ]
  },
  {
   "cell_type": "code",
   "execution_count": 234,
   "id": "1f6aba15-6e92-4440-96b7-3ff499aff8bf",
   "metadata": {},
   "outputs": [
    {
     "name": "stdout",
     "output_type": "stream",
     "text": [
      "Categorical → ['playlist_url', 'album_name', 'artist_id', 'artist_name', 'artist_genres', 'artist_pop_bin', 'hiphop_label']\n",
      "Numeric     → ['year', 'artist_popularity', 'danceability', 'energy', 'key', 'loudness', 'mode', 'speechiness', 'acousticness', 'instrumentalness'] … (total 18 )\n"
     ]
    }
   ],
   "source": [
    "TARGET = \"track_popularity\"   \n",
    "\n",
    "y = df[TARGET]\n",
    "X = df.drop(columns=TARGET)\n",
    "\n",
    "cat_cols = X.select_dtypes(include=\"object\").columns.tolist()\n",
    "num_cols = X.select_dtypes(include=\"number\").columns.tolist()\n",
    "\n",
    "print(\"Categorical →\", cat_cols)\n",
    "print(\"Numeric     →\", num_cols[:10], \"… (total\", len(num_cols), \")\")\n"
   ]
  },
  {
   "cell_type": "code",
   "execution_count": 228,
   "id": "eb1eaf77-d79c-4506-8c7e-6b1f0fff7a32",
   "metadata": {},
   "outputs": [],
   "source": [
    "numeric_pipe = Pipeline([\n",
    "    (\"imputer\", SimpleImputer(strategy=\"median\")),\n",
    "    (\"scaler\", StandardScaler())\n",
    "])\n",
    "\n",
    "categorical_pipe = Pipeline([\n",
    "    (\"imputer\", SimpleImputer(strategy=\"most_frequent\")),\n",
    "    (\"ohe\", OneHotEncoder(drop=\"first\", handle_unknown=\"ignore\", sparse_output=False))\n",
    "])\n",
    "\n",
    "preprocessor = ColumnTransformer([\n",
    "    (\"num\", numeric_pipe, num_cols),\n",
    "    (\"cat\", categorical_pipe, cat_cols)\n",
    "], remainder=\"drop\")\n"
   ]
  },
  {
   "cell_type": "code",
   "execution_count": 236,
   "id": "64be341a-4dc7-42b8-9f23-e760308d39aa",
   "metadata": {},
   "outputs": [
    {
     "name": "stdout",
     "output_type": "stream",
     "text": [
      "Train shape : (23, 26)\n",
      "Test  shape : (11, 26)\n"
     ]
    }
   ],
   "source": [
    "X_train, X_test, y_train, y_test = train_test_split(\n",
    "    X, y, test_size=0.30, random_state=42, stratify=None\n",
    ")\n",
    "\n",
    "print(\"Train shape :\", X_train.shape)\n",
    "print(\"Test  shape :\", X_test.shape)\n"
   ]
  },
  {
   "cell_type": "code",
   "execution_count": 240,
   "id": "b20dcd89-c871-4b36-890e-a210d3bbf0b7",
   "metadata": {},
   "outputs": [
    {
     "name": "stdout",
     "output_type": "stream",
     "text": [
      "Prepared train shape : (23, 73)\n",
      "Prepared test  shape : (11, 73)\n"
     ]
    },
    {
     "name": "stderr",
     "output_type": "stream",
     "text": [
      "/opt/anaconda3/lib/python3.12/site-packages/sklearn/preprocessing/_encoders.py:242: UserWarning: Found unknown categories in columns [0, 1, 2, 3, 4] during transform. These unknown categories will be encoded as all zeros\n",
      "  warnings.warn(\n"
     ]
    }
   ],
   "source": [
    "preprocessor.fit(X_train)\n",
    "\n",
    "X_train_arr = preprocessor.transform(X_train)\n",
    "X_test_arr  = preprocessor.transform(X_test)\n",
    "\n",
    "try:\n",
    "    feature_names = preprocessor.get_feature_names_out()\n",
    "except AttributeError:\n",
    "    ohe_names = (\n",
    "        preprocessor.named_transformers_[\"cat\"]\n",
    "                   .named_steps[\"ohe\"].get_feature_names_out(cat_cols)\n",
    "    )\n",
    "    feature_names = np.r_[num_cols, ohe_names]\n",
    "\n",
    "X_train_df = pd.DataFrame(X_train_arr, columns=feature_names, index=X_train.index)\n",
    "X_test_df  = pd.DataFrame(X_test_arr,  columns=feature_names, index=X_test.index)\n",
    "\n",
    "print(\"Prepared train shape :\", X_train_df.shape)\n",
    "print(\"Prepared test  shape :\", X_test_df.shape)"
   ]
  },
  {
   "cell_type": "code",
   "execution_count": 242,
   "id": "c291bffc-f8c1-4035-866f-c7abd8ac8a7d",
   "metadata": {},
   "outputs": [
    {
     "data": {
      "image/png": "[encoded data removed]",
      "text/plain": [
       "<Figure size 1200x400 with 2 Axes>"
      ]
     },
     "metadata": {},
     "output_type": "display_data"
    }
   ],
   "source": [
    "if num_cols:\n",
    "    sel_feat = num_cols[0]\n",
    "    fig, ax = plt.subplots(1, 2, figsize=(12, 4))\n",
    "    sns.kdeplot(df[sel_feat], ax=ax[0])\n",
    "    sns.kdeplot(X_train_df[f\"num__{sel_feat}\"] , ax=ax[1])\n",
    "    ax[0].set_title(f\"Raw {sel_feat}\")\n",
    "    ax[1].set_title(f\"Scaled {sel_feat}\")\n",
    "    plt.tight_layout()\n"
   ]
  },
  {
   "cell_type": "code",
   "execution_count": 244,
   "id": "e2e8a9dd-b801-4d5d-bdfc-5e85fa2e3389",
   "metadata": {},
   "outputs": [
    {
     "data": {
      "text/plain": [
       "['spotify_preprocessor.joblib']"
      ]
     },
     "execution_count": 244,
     "metadata": {},
     "output_type": "execute_result"
    }
   ],
   "source": [
    "X_train_df.to_csv(\"spotify_X_train_prepared.csv\", index=False)\n",
    "X_test_df.to_csv(\"spotify_X_test_prepared.csv\" , index=False)\n",
    "y_train.to_csv(\"spotify_y_train.csv\", index=False)\n",
    "y_test.to_csv(\"spotify_y_test.csv\"  , index=False)\n",
    "\n",
    "joblib.dump(preprocessor, \"spotify_preprocessor.joblib\")"
   ]
  },
  {
   "cell_type": "code",
   "execution_count": null,
   "id": "d46d6f7e-898d-4b39-85cc-152357a2f5f9",
   "metadata": {},
   "outputs": [],
   "source": []
  }
 ],
 "metadata": {
  "kernelspec": {
   "display_name": "Python 3 (ipykernel)",
   "language": "python",
   "name": "python3"
  },
  "language_info": {
   "codemirror_mode": {
    "name": "ipython",
    "version": 3
   },
   "file_extension": ".py",
   "mimetype": "text/x-python",
   "name": "python",
   "nbconvert_exporter": "python",
   "pygments_lexer": "ipython3",
   "version": "3.12.7"
  }
 },
 "nbformat": 4,
 "nbformat_minor": 5
}
